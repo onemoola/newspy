{
 "cells": [
  {
   "cell_type": "code",
   "execution_count": null,
   "outputs": [],
   "source": [
    "%%capture\n",
    "!pip install -U newspy"
   ],
   "metadata": {
    "collapsed": false
   }
  },
  {
   "cell_type": "markdown",
   "source": [
    "## 1. RSS feeds client"
   ],
   "metadata": {
    "collapsed": false
   }
  },
  {
   "cell_type": "markdown",
   "source": [
    "### 1.1. Get available news sources from RSS feeds"
   ],
   "metadata": {
    "collapsed": false
   }
  },
  {
   "cell_type": "code",
   "execution_count": null,
   "outputs": [],
   "source": [
    "from newspy import rss\n",
    "\n",
    "rss_sources = rss.get_sources()\n",
    "print(rss_sources)"
   ],
   "metadata": {
    "collapsed": false
   }
  },
  {
   "cell_type": "markdown",
   "source": [
    "### 1.2. Get articles from RSS feeds"
   ],
   "metadata": {
    "collapsed": false
   }
  },
  {
   "cell_type": "code",
   "execution_count": null,
   "outputs": [],
   "source": [
    "rss_articles = rss.get_articles()\n",
    "print(rss_articles)"
   ],
   "metadata": {
    "collapsed": false
   }
  },
  {
   "cell_type": "markdown",
   "source": [
    "## 2. Newsorg client"
   ],
   "metadata": {
    "collapsed": false
   }
  },
  {
   "cell_type": "markdown",
   "source": [
    "### 2.1. Configure your Newsorg API key\n",
    "You can get one here: https://newsapi.org/"
   ],
   "metadata": {
    "collapsed": false
   }
  },
  {
   "cell_type": "code",
   "execution_count": 6,
   "outputs": [],
   "source": [
    "import newspy.client as newspy\n",
    "from newspy import newsorg\n",
    "\n",
    "newsorg_api_key = \"NEWSAPI_API_KEY\"\n",
    "newspy.configure(newsorg_api_key=newsorg_api_key)"
   ],
   "metadata": {
    "collapsed": false,
    "ExecuteTime": {
     "end_time": "2023-08-28T06:04:13.811074Z",
     "start_time": "2023-08-28T06:04:13.704973Z"
    }
   }
  },
  {
   "cell_type": "markdown",
   "source": [
    "### 2.2. Get available news sources from Newsorg"
   ],
   "metadata": {
    "collapsed": false
   }
  },
  {
   "cell_type": "code",
   "execution_count": null,
   "outputs": [],
   "source": [
    "newsorg_sources = newsorg.get_sources()\n",
    "print(newsorg_sources)"
   ],
   "metadata": {
    "collapsed": false
   }
  },
  {
   "cell_type": "markdown",
   "source": [
    "### 2.3. Get articles from Newsorg"
   ],
   "metadata": {
    "collapsed": false
   }
  },
  {
   "cell_type": "code",
   "execution_count": null,
   "outputs": [],
   "source": [
    "from newspy.models import Language\n",
    "from newspy.newsorg.models import NewsorgEndpoint\n",
    "\n",
    "newsorg_articles = newsorg.get_articles(\n",
    "    endpoint=NewsorgEndpoint.TOP_HEADLINES,\n",
    "    language=Language.EN,\n",
    ")\n",
    "\n",
    "print(newsorg_articles)"
   ],
   "metadata": {
    "collapsed": false
   }
  },
  {
   "cell_type": "markdown",
   "source": [
    "## 3. Newspy client\n",
    "The newspy client makes it convenient to get articles from both the RSS feeds and Newsorg APIs."
   ],
   "metadata": {
    "collapsed": false
   }
  },
  {
   "cell_type": "markdown",
   "source": [
    "### 3.1. Configure your Newsapi API key"
   ],
   "metadata": {
    "collapsed": false
   }
  },
  {
   "cell_type": "code",
   "execution_count": 5,
   "outputs": [],
   "source": [
    "import newspy.client as newspy\n",
    "\n",
    "newsorg_api_key = \"NEWSAPI_API_KEY\"\n",
    "newspy.configure(newsorg_api_key=newsorg_api_key)"
   ],
   "metadata": {
    "collapsed": false,
    "ExecuteTime": {
     "end_time": "2023-09-03T15:14:01.034583Z",
     "start_time": "2023-09-03T15:14:01.016144Z"
    }
   }
  },
  {
   "cell_type": "markdown",
   "source": [
    "### 3.2. Get available news sources from both RSS feeds and Newsorg"
   ],
   "metadata": {
    "collapsed": false
   }
  },
  {
   "cell_type": "code",
   "execution_count": null,
   "outputs": [],
   "source": [
    "news_sources = newspy.get_sources()\n",
    "print(news_sources)"
   ],
   "metadata": {
    "collapsed": false
   }
  },
  {
   "cell_type": "markdown",
   "source": [
    "### 3.3. Get articles from both RSS feeds and Newsorg"
   ],
   "metadata": {
    "collapsed": false
   }
  },
  {
   "cell_type": "code",
   "execution_count": null,
   "outputs": [],
   "source": [
    "news_articles = newspy.get_articles(language=Language.EN, fetch_archived=True)\n",
    "\n",
    "# Print basic info for all articles (or a subset)\n",
    "print(f\"Fetched {len(news_articles)} articles.\")\n",
    "for i, article in enumerate(news_articles):\n",
    "    if i < 5: # Print details for the first 5 articles\n",
    "        print(f\"\\nTitle: {article.title}\")\n",
    "        print(f\"  Source: {article.source.name}\")\n",
    "        print(f\"  Original URL: {article.url}\")\n",
    "        if article.archived_data:\n",
    "            print(f\"  Archive Status: {article.archived_data.get('status')}\")\n",
    "            if article.archived_data.get('status') == 'success':\n",
    "                print(f\"    Archived URL: {article.archived_data.get('archive_url')}\")\n",
    "                print(f\"    Archived Title: {article.archived_data.get('title')}\")\n",
    "                # print(f\"    Archived Text Snippet: {article.archived_data.get('text', '')[:100]}...\")\n",
    "            elif article.archived_data.get('error'):\n",
    "                print(f\"    Archiving error: {article.archived_data.get('error')}\")\n",
    "        else:\n",
    "            print(\"  No archive data fetched for this article.\")\n",
    "        print(\"---\")"
   ],
   "metadata": {
    "collapsed": false
   }
  },
  {
   "cell_type": "markdown",
   "source": [
    "### 3.4. Get available categories"
   ],
   "metadata": {
    "collapsed": false
   }
  },
  {
   "cell_type": "code",
   "execution_count": null,
   "outputs": [],
   "source": [
    "categories = newspy.get_categories()\n",
    "print(categories)"
   ],
   "metadata": {
    "collapsed": false
   }
  },
  {
   "cell_type": "markdown",
   "source": [
    "### 3.5. Get articles by category"
   ],
   "metadata": {
    "collapsed": false
   }
  },
  {
   "cell_type": "code",
   "execution_count": null,
   "outputs": [],
   "source": [
    "from newspy.models import Category\n",
    "\n",
    "business_news_articles = newspy.get_articles(category=Category.BUSINESS)\n",
    "finance_news_articles = newspy.get_articles(category=Category.FINANCIAL)\n",
    "\n",
    "print(business_news_articles)\n",
    "print(finance_news_articles)"
   ],
   "metadata": {
    "collapsed": false
   }
  }
 ],
 "metadata": {
  "kernelspec": {
   "display_name": "Python 3",
   "language": "python",
   "name": "python3"
  },
  "language_info": {
   "codemirror_mode": {
    "name": "ipython",
    "version": 2
   },
   "file_extension": ".py",
   "mimetype": "text/x-python",
   "name": "python",
   "nbconvert_exporter": "python",
   "pygments_lexer": "ipython2",
   "version": "2.7.6"
  }
 },
 "nbformat": 4,
 "nbformat_minor": 0
}
